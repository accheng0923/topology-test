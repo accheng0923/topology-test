{
 "cells": [
  {
   "cell_type": "markdown",
   "metadata": {},
   "source": [
    "###  步骤\n",
    "1.分维度把持续图分解出来\n",
    "2。在每一个维度里面，定义一个阈值，把小于这个阈值的当成噪声筛掉。\n",
    "3.bottleneck 的计算。函数里传入两个日期，计算两个日期持续图的bottleneck距离\n",
    "4.拓扑特征（二维点的生存时间） 每个维度的平均生存时间和最大生存时间。\n",
    "\n",
    "\n",
    "df\n",
    "索引是日期：       拓扑标签1 2 3 4 5 6       涨幅（收益）\n",
    "\n",
    "2024-0101           2.0 1.5                         \n",
    "\n",
    "\n",
    "\n",
    "\n",
    "\n",
    "2024-09-12        2.0                              记数（>10） \n",
    "\n",
    "\n",
    "\n",
    "\n",
    "\n",
    "\n",
    "\n",
    "第二种： 因子和收益率相关性的\n",
    "\n",
    "\n",
    "\n",
    "\n",
    "需要论文支撑（拓扑数据分析，应用于金融领域）"
   ]
  },
  {
   "cell_type": "code",
   "execution_count": 1,
   "metadata": {
    "pycharm": {
     "is_executing": true
    }
   },
   "outputs": [],
   "source": [
    "import pandas as pd\n",
    "import numpy as np\n",
    "import gudhi\n",
    "import matplotlib.pyplot as plt\n",
    "import pandas as pd\n",
    "from gudhi import AlphaComplex\n",
    "import gudhi as gd\n",
    "import gudhi.alpha_complex as ac\n",
    "import matplotlib.pyplot as plt\n",
    "plt.rcParams['font.sans-serif'] = ['SimHei'] \n",
    "plt.rcParams['axes.unicode_minus'] = False  \n",
    "\n"
   ]
  },
  {
   "cell_type": "code",
   "execution_count": 2,
   "metadata": {},
   "outputs": [],
   "source": [
    "def filter_table_by_date_and_items(df, date, items):\n",
    "    '''\n",
    "    输入：大表、日期、该日期下的hs300标的列表\n",
    "    '''\n",
    "    filtered_df = df[(df['name'] == date) & (df['Unnamed: 1'].isin(items))]\n",
    "    return filtered_df\n",
    "\n",
    "def get_non_empty_symbols_for_date(date, df):\n",
    "    filtered_row = df[df['Date'] == date]\n",
    "    if filtered_row.empty:\n",
    "        return f\"No data available for the specified date: {date}\"\n",
    "    row = filtered_row.iloc[0]\n",
    "    non_empty_symbols = row.drop(labels=['Date']).dropna().index.tolist()\n",
    "    return non_empty_symbols\n",
    "\n",
    "def function(date,df_comp,df_x):\n",
    "    '输入日期'\n",
    "\n",
    "    filtered_row = df_comp[df_comp['Date'] == date]\n",
    "    if filtered_row.empty:\n",
    "        return f\"No data available for the specified date: {date}\"\n",
    "    row = filtered_row.iloc[0]\n",
    "    non_empty_symbols = row.drop(labels=['Date']).dropna().index.tolist()\n",
    "    non_empty_symbols_numeric = list(map(int, non_empty_symbols))\n",
    "\n",
    "    df = filter_table_by_date_and_items(df_x,date,non_empty_symbols_numeric)\n",
    "    return df\n",
    "\n",
    "\n",
    "\n",
    "\n",
    "def alpha_function(df):\n",
    "    # 从 DataFrame 中选取数值类型的数据，随机选择5列\n",
    "    numerical_data = df.select_dtypes(include=['float64', 'int64']).sample(n=5, axis=1).head(300)\n",
    "    print(numerical_data)\n",
    "    topology_points = numerical_data.to_numpy()\n",
    "    print(topology_points)\n",
    "\n",
    "    \n",
    "    alpha_complex = gudhi.AlphaComplex(points=topology_points)\n",
    "    simplex_tree = alpha_complex.create_simplex_tree()  \n",
    "    diag = simplex_tree.persistence()\n",
    "    \n",
    "\n",
    "    # 绘制持久性图\n",
    "    gudhi.plot_persistence_diagram(diag)\n",
    "    plt.title('Topological Point Cloud - Persistence Diagram using Alpha Complex')\n",
    "    plt.show()\n",
    "\n",
    "\n",
    "\n",
    "def rips_output(date,df_comp,df_x):\n",
    "    df = function(date,df_comp,df_x)\n",
    "    alpha_function(df)\n",
    "    return\n",
    "\n",
    "\n"
   ]
  },
  {
   "cell_type": "markdown",
   "metadata": {},
   "source": []
  },
  {
   "cell_type": "markdown",
   "metadata": {},
   "source": [
    "stree.dimension(): 返回单纯形树的最大维度。例如，0表示点，1表示边，2表示三角形。  \n",
    "stree.num_simplices(): 返回单纯形的总数，包括点、边和更高维的单纯形。  \n",
    "stree.num_vertices(): 返回单纯形树中的顶点数，即 Alpha 复杂中点的数量。  \n",
    "\n",
    "stree.get_filtration(): 返回单纯形树中每个单纯形及其对应的过滤值。过滤值代表在生成 Alpha 复杂时，每个单纯形的出现顺序或时间（半径的大小）。"
   ]
  },
  {
   "cell_type": "code",
   "execution_count": 3,
   "metadata": {},
   "outputs": [],
   "source": [
    "#单独把每一维度的实现出来(传入一个参数，调取指定维度的图)\n",
    "\n",
    "def sustainability(date,df_comp,df_x):\n",
    "    df = function(date,df_comp,df_x)\n",
    "    dimension = 1\n",
    "    numerical_data = df.select_dtypes(include=['float64', 'int64']).sample(n=3, axis=1).head(300)#随机选n列特征绘制持续性图\n",
    "    topology_points = numerical_data.to_numpy()\n",
    "    ac = AlphaComplex(points=topology_points)\n",
    "    stree = ac.create_simplex_tree()\n",
    "    diag = stree.persistence()\n",
    "    print('Alpha complex is of dimension ', stree.dimension(), ' - ',\n",
    "    stree.num_simplices(), ' simplices - ', stree.num_vertices(), ' vertices.')\n",
    "\n",
    "    fmt = '%s -> %.2f'\n",
    "    for filtered_value in stree.get_filtration():\n",
    "        print(fmt % tuple(filtered_value))\n",
    "\n",
    "\n",
    "    filtered_diag = [pair for pair in diag if pair[0] == dimension]\n",
    "\n",
    "    # 绘制持久性图\n",
    "    gudhi.plot_persistence_diagram(diag)\n",
    "    plt.title(f'拓扑点云 - {dimension} 维持久性图')\n",
    "    plt.show()\n"
   ]
  },
  {
   "cell_type": "code",
   "execution_count": 4,
   "metadata": {},
   "outputs": [
    {
     "ename": "",
     "evalue": "",
     "output_type": "error",
     "traceback": [
      "\u001b[1;31m在当前单元格或上一个单元格中执行代码时 Kernel 崩溃。\n",
      "\u001b[1;31m请查看单元格中的代码，以确定故障的可能原因。\n",
      "\u001b[1;31m单击<a href='https://aka.ms/vscodeJupyterKernelCrash'>此处</a>了解详细信息。\n",
      "\u001b[1;31m有关更多详细信息，请查看 Jupyter <a href='command:jupyter.viewOutput'>log</a>。"
     ]
    }
   ],
   "source": [
    "\n",
    "def bottleneck_fun(date1,date2,df_comp,df_x):\n",
    "    df1 = function(date1,df_comp,df_x)\n",
    "    df2 = function(date2,df_comp,df_x)\n",
    "    #后续再换\n",
    "    df1 = df1.iloc[:,-5:-1]\n",
    "    df2 = df2.iloc[:,-5:-1]\n",
    "   \n",
    "    points1 = df1.values\n",
    "    points2 = df2.values\n",
    "\n",
    "\n",
    "    alpha_complex1 = ac.AlphaComplex(points=points1)\n",
    "    simplex_tree1 = alpha_complex1.create_simplex_tree()\n",
    "    diag1 = simplex_tree1.persistence()\n",
    "\n",
    "    alpha_complex2 = ac.AlphaComplex(points=points2)\n",
    "    simplex_tree2 = alpha_complex2.create_simplex_tree()\n",
    "    diag2 = simplex_tree2.persistence()\n",
    "\n",
    "\n",
    "    diag1_np = np.array([[birth, death] for dim, (birth, death) in diag1])\n",
    "    diag2_np = np.array([[birth, death] for dim, (birth, death) in diag2])\n",
    "\n",
    "    # 计算 Bottleneck 距离\n",
    "    bottleneck_distance = gd.bottleneck_distance(diag1_np, diag2_np)\n",
    "    print(f\"Bottleneck 距离: {bottleneck_distance}\")\n",
    "    return bottleneck_distance\n",
    "\n",
    "\n"
   ]
  },
  {
   "cell_type": "code",
   "execution_count": 5,
   "metadata": {},
   "outputs": [
    {
     "name": "stderr",
     "output_type": "stream",
     "text": [
      "C:\\Windows\\Temp\\ipykernel_10596\\3060910385.py:3: DtypeWarning: Columns (1) have mixed types. Specify dtype option on import or set low_memory=False.\n",
      "  df_x = pd.read_csv('x.csv')\n"
     ]
    }
   ],
   "source": [
    "df_comp = pd.read_csv('comp_000300.csv')\n",
    "df_quote = pd.read_csv('quote_000300.csv')\n",
    "df_x = pd.read_csv('x.csv')\n",
    "\n",
    "date1 = '2024-01-04'\n",
    "date2 = '2024-01-05'\n",
    "sustainability(date1,df_comp,df_x)\n",
    "bottleneck_fun(date1,date2,df_comp,df_x)"
   ]
  }
 ],
 "metadata": {
  "kernelspec": {
   "display_name": "Python 3",
   "language": "python",
   "name": "python3"
  },
  "language_info": {
   "codemirror_mode": {
    "name": "ipython",
    "version": 3
   },
   "file_extension": ".py",
   "mimetype": "text/x-python",
   "name": "python",
   "nbconvert_exporter": "python",
   "pygments_lexer": "ipython3",
   "version": "3.11.7"
  }
 },
 "nbformat": 4,
 "nbformat_minor": 2
}
